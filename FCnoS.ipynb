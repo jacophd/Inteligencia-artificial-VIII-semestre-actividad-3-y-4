{
  "nbformat": 4,
  "nbformat_minor": 0,
  "metadata": {
    "colab": {
      "provenance": []
    },
    "kernelspec": {
      "name": "python3",
      "display_name": "Python 3"
    },
    "language_info": {
      "name": "python"
    }
  },
  "cells": [
    {
      "cell_type": "markdown",
      "source": [
        "#Actividad_4 - Búsqueda y sistemas basados en reglas Ibero_ingenieria de software virtual VIII semestre\n",
        "\n",
        "\n",
        "# por JORGE CHAMORRO ID BANNER 100080449\n",
        "\n",
        "El presente ejercicio de metodos de aprendizaje no supervizado busca determinar cual es la frecuencia cardiaca correspondiente a una determinada frecuencia respiratoria"
      ],
      "metadata": {
        "id": "7wTi_B47agbc"
      }
    },
    {
      "cell_type": "markdown",
      "source": [
        "Importar librerias necesarias"
      ],
      "metadata": {
        "id": "hqaDGLEtbAAB"
      }
    },
    {
      "cell_type": "code",
      "execution_count": 8,
      "metadata": {
        "id": "vy7MHdvApsmx"
      },
      "outputs": [],
      "source": [
        "import numpy as np\n",
        "import matplotlib.pyplot as plt\n",
        "from sklearn.cluster import KMeans"
      ]
    },
    {
      "cell_type": "markdown",
      "source": [
        "Crear el set de datos, en este caso se genera de forma aleatoria 80 datos de personas con frecuencia cardiaca y frecuencia respiratoria respectivamente"
      ],
      "metadata": {
        "id": "WWRjGV-sbEje"
      }
    },
    {
      "cell_type": "code",
      "source": [
        "# Generar datos aleatorios para frecuencia cardíaca y respiratoria de 80 personas\n",
        "np.random.seed(42)\n",
        "\n",
        "\n",
        "frecuencia_cardiaca = np.random.randint(60, 100, 80)\n",
        "\n",
        "frecuencia_respiratoria = np.random.randint(12, 20, 80)\n",
        "\n",
        "# Combinar los datos en un array bidimensional\n",
        "datos_personas = np.column_stack((frecuencia_cardiaca, frecuencia_respiratoria))\n",
        "\n",
        "print(datos_personas)"
      ],
      "metadata": {
        "id": "RHR2YPiibluV"
      },
      "execution_count": null,
      "outputs": []
    },
    {
      "cell_type": "markdown",
      "source": [
        "Organizar el set de datos, usar kmeans para clasificar los datos en 3 cluster, con sus respectivas etiquetas y centroides"
      ],
      "metadata": {
        "id": "zyFN6rklb0iU"
      }
    },
    {
      "cell_type": "code",
      "source": [
        "datos = [[98, 12], [88, 19], [74, 12], [67, 15], [80, 19], [98, 19], [78, 18], [82, 14], [70, 14], [70, 12],\n",
        "         [83, 19], [95, 14], [99, 14], [83, 12], [62, 14], [81, 16], [61, 13], [83, 18], [89, 13], [97, 12],\n",
        "         [61, 15], [80, 18], [92, 12], [71, 19], [81, 15], [84, 13], [86, 12], [87, 19], [75, 18], [74, 18],\n",
        "         [62, 17], [96, 19], [66, 16], [80, 14], [68, 15], [98, 19], [77, 17], [63, 14], [84, 14], [73, 12],\n",
        "         [68, 14], [85, 16], [61, 18], [79, 17], [87, 14], [66, 12], [67, 16], [94, 13], [73, 18], [76, 18],\n",
        "         [95, 17], [99, 18], [63, 14], [61, 12], [65, 18], [63, 18], [88, 13], [77, 13], [85, 15], [93, 16],\n",
        "         [69, 14], [95, 18], [73, 19], [90, 18], [74, 12], [67, 15], [73, 16], [82, 19], [99, 15], [80, 17],\n",
        "         [75, 16], [77, 18], [83, 18], [85, 16], [84, 18], [88, 14], [74, 16], [60, 15], [84, 16], [66, 19]]\n",
        "\n",
        "kmeans = KMeans(n_clusters=3, n_init=10, random_state=42)\n",
        "kmeans.fit(datos)\n",
        "\n",
        "etiquetas = kmeans.labels_\n",
        "centroides = kmeans.cluster_centers_\n",
        "\n",
        "print(\"Etiquetas de los clusters:\", etiquetas)\n",
        "print(\"Coordenadas de los centroides:\")\n",
        "print(centroides)"
      ],
      "metadata": {
        "id": "Ryzx98Fjv_8c"
      },
      "execution_count": null,
      "outputs": []
    },
    {
      "cell_type": "markdown",
      "source": [
        "Graficar los cluster para obtener la información necesaria"
      ],
      "metadata": {
        "id": "e3VvgfU_cF3s"
      }
    },
    {
      "cell_type": "code",
      "source": [
        "colors = ['r', 'g', 'b']\n",
        "\n",
        "for i in range(len(datos)):\n",
        "    plt.scatter(datos[i][0], datos[i][1], color=colors[etiquetas[i]], alpha=0.5)\n",
        "\n",
        "for i in range(len(centroides)):\n",
        "    plt.scatter(centroides[i][0], centroides[i][1], color=colors[i], marker='x', s=100)\n",
        "\n",
        "plt.xlabel('Frecuencia Cardíaca (bpm)')\n",
        "plt.ylabel('Frecuencia Respiratoria (rpm)')\n",
        "plt.title('Clusters de Frecuencia Cardíaca y Respiratoria')\n",
        "\n",
        "plt.show()"
      ],
      "metadata": {
        "id": "KUegnqsAwozj"
      },
      "execution_count": null,
      "outputs": []
    }
  ]
}