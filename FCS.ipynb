{
  "nbformat": 4,
  "nbformat_minor": 0,
  "metadata": {
    "colab": {
      "provenance": []
    },
    "kernelspec": {
      "name": "python3",
      "display_name": "Python 3"
    },
    "language_info": {
      "name": "python"
    }
  },
  "cells": [
    {
      "cell_type": "markdown",
      "source": [
        "#Actividad_3 - Búsqueda y sistemas basados en reglas Ibero_ingenieria de software virtual VIII semestre\n",
        "\n",
        "# por JORGE CHAMORRO ID BANNER 100080449\n",
        "\n",
        "El presente ejercicio de metodos de aprendizaje no supervizado busca determinar cual es la frecuencia cardiaca correspondiente a una determinada frecuencia respiratoria"
      ],
      "metadata": {
        "id": "IKsd3qpHaJYy"
      }
    },
    {
      "cell_type": "markdown",
      "source": [
        "Importar librerias necesarias"
      ],
      "metadata": {
        "id": "CdDPKTtSdWOS"
      }
    },
    {
      "cell_type": "code",
      "execution_count": 26,
      "metadata": {
        "id": "9ix68DBxMjMY"
      },
      "outputs": [],
      "source": [
        "import tensorflow as tf\n",
        "import numpy as np\n",
        "import matplotlib.pyplot as plt"
      ]
    },
    {
      "cell_type": "markdown",
      "source": [
        "Crear el set de datos, en este caso se genera de forma aleatoria 80 datos de personas con frecuencia cardiaca y frecuencia respiratoria respectivamente"
      ],
      "metadata": {
        "id": "H7qemTlxdZFx"
      }
    },
    {
      "cell_type": "code",
      "source": [
        "# Generar datos aleatorios para frecuencia cardíaca y respiratoria de 80 personas\n",
        "np.random.seed(42)\n",
        "\n",
        "\n",
        "frecuencia_cardiaca = np.random.randint(60, 100, 80)\n",
        "\n",
        "frecuencia_respiratoria = np.random.randint(12, 20, 80)\n",
        "\n",
        "# Combinar los datos en un array bidimensional\n",
        "datos_personas = np.column_stack((frecuencia_cardiaca, frecuencia_respiratoria))\n",
        "\n",
        "print(datos_personas)"
      ],
      "metadata": {
        "id": "UAOe2GzideVf"
      },
      "execution_count": null,
      "outputs": []
    },
    {
      "cell_type": "markdown",
      "source": [
        "Organizar el set de datos en 2 array"
      ],
      "metadata": {
        "id": "IqOGw8NCdg7a"
      }
    },
    {
      "cell_type": "code",
      "source": [
        "fr = np.array([12, 19, 12, 15, 19, 19, 18, 14, 14, 12,\n",
        "               19, 14, 14, 12, 14, 16, 13, 18, 13, 12,\n",
        "               15, 18, 12, 19, 15, 13, 12, 19, 18, 18,\n",
        "               17, 19, 16, 14, 15, 19, 17, 14, 14, 12,\n",
        "               14, 16, 18, 17, 14, 12, 16, 13, 18, 18,\n",
        "               17, 18, 14, 12, 18, 18, 13, 13, 15, 16,\n",
        "               14, 18, 19, 18, 12, 15, 16, 19, 15, 17,\n",
        "               16, 18, 18, 16, 18, 14, 16, 15, 16, 19], dtype= float)\n",
        "\n",
        "fc = np.array([98, 88, 74, 67, 80, 98, 78, 82, 70, 70,\n",
        "               83, 95, 99, 83, 62, 81, 61, 83, 89, 97,\n",
        "               61, 80, 92, 71, 81, 84, 86, 87, 75, 74,\n",
        "               62, 96, 66, 80, 68, 98, 77, 63, 84, 73,\n",
        "               68, 85, 61, 79, 87, 66, 67, 94, 73, 76,\n",
        "               95, 99, 63, 61, 65, 63, 88, 77, 85, 93,\n",
        "               69, 95, 73, 90, 74, 67, 73, 82, 99, 80,\n",
        "               75, 77, 83, 85, 84, 88, 74, 60, 84, 66], dtype= float)"
      ],
      "metadata": {
        "id": "nSNNQMEtMtT0"
      },
      "execution_count": 36,
      "outputs": []
    },
    {
      "cell_type": "markdown",
      "source": [
        "Establecer los parametros de la capa y el tipo de modelo"
      ],
      "metadata": {
        "id": "1IRIVSu7dmj2"
      }
    },
    {
      "cell_type": "code",
      "source": [
        "capa = tf.keras.layers.Dense(units=1, input_shape=[1])\n",
        "modelo = tf.keras.Sequential([capa])"
      ],
      "metadata": {
        "id": "eVGXoeKBNpFW"
      },
      "execution_count": 37,
      "outputs": []
    },
    {
      "cell_type": "markdown",
      "source": [
        "Establecer el algoritmo de optimización y las perdidas aceptables y compilar el modelo"
      ],
      "metadata": {
        "id": "ixhLy1f1dtog"
      }
    },
    {
      "cell_type": "code",
      "source": [
        "modelo.compile(\n",
        "    optimizer= tf.keras.optimizers.Adam(0.1),\n",
        "    loss= 'mean_squared_error'\n",
        "\n",
        ")"
      ],
      "metadata": {
        "id": "E-sfnAVcNrJ9"
      },
      "execution_count": 38,
      "outputs": []
    },
    {
      "cell_type": "markdown",
      "source": [
        "Entrenar al modelo"
      ],
      "metadata": {
        "id": "jZxVv8xdd4sS"
      }
    },
    {
      "cell_type": "code",
      "source": [
        "print(\"Comenzando entrenamiento\")\n",
        "historial = modelo.fit(fr, fc, epochs=1000, verbose=False)\n",
        "print(\"Modelo listo\")"
      ],
      "metadata": {
        "id": "eSP-MIEaNuWy"
      },
      "execution_count": null,
      "outputs": []
    },
    {
      "cell_type": "markdown",
      "source": [
        "Grafica de magnitud de perdidas"
      ],
      "metadata": {
        "id": "EZ7OMMDKd84t"
      }
    },
    {
      "cell_type": "code",
      "source": [
        "plt.xlabel(\"# Epoca\")\n",
        "plt.ylabel(\"Magnitud de pérdidad\")\n",
        "plt.plot(historial.history[\"loss\"])"
      ],
      "metadata": {
        "id": "6QuXbFW2N3Tk"
      },
      "execution_count": null,
      "outputs": []
    },
    {
      "cell_type": "markdown",
      "source": [
        "Identificar variables"
      ],
      "metadata": {
        "id": "C3CfoFzIeBoq"
      }
    },
    {
      "cell_type": "code",
      "source": [
        "print(\"Variables\")\n",
        "print(capa.get_weights())"
      ],
      "metadata": {
        "id": "5pd5iuqgOFtR"
      },
      "execution_count": null,
      "outputs": []
    },
    {
      "cell_type": "markdown",
      "source": [
        "Ejecutar el algoritmo resultante"
      ],
      "metadata": {
        "id": "HUVrZXlXeEE9"
      }
    },
    {
      "cell_type": "code",
      "source": [
        "print (\"convierte Frecuencia Respiratoria (rpm) a Frecuencia Cardíaca (bpm) ingresa la frecuencia respiratoria por minuto: \")\n",
        "f_rpm = input()\n",
        "result = modelo.predict ([float(f_rpm)])\n",
        "print (\"La frecuencia cardiaca en promedio debe ser: \"+ str(result))"
      ],
      "metadata": {
        "id": "cpjOzZ-eN6gk"
      },
      "execution_count": null,
      "outputs": []
    }
  ]
}